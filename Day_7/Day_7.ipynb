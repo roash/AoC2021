{
 "cells": [
  {
   "cell_type": "markdown",
   "id": "73a42467",
   "metadata": {},
   "source": [
    "# Advent of Code Day 7"
   ]
  },
  {
   "cell_type": "markdown",
   "id": "021f98a8",
   "metadata": {},
   "source": [
    "## Part 1"
   ]
  },
  {
   "cell_type": "code",
   "execution_count": 16,
   "id": "1b145e6b",
   "metadata": {},
   "outputs": [],
   "source": [
    "import numpy as np\n",
    "from numba import jit, njit, prange"
   ]
  },
  {
   "cell_type": "code",
   "execution_count": 17,
   "id": "b3b6beee",
   "metadata": {},
   "outputs": [],
   "source": [
    "# with open(\"Day7_input_1.txt\",'r') as f:\n",
    "pos = np.loadtxt(\"Day7_input_1.txt\", delimiter = ',')"
   ]
  },
  {
   "cell_type": "code",
   "execution_count": 19,
   "id": "697caace",
   "metadata": {},
   "outputs": [],
   "source": [
    "@jit\n",
    "def tot_dist(pos, point):\n",
    "    totdist = 0\n",
    "    for i in prange(len(pos)):\n",
    "        totdist += abs(pos[i]-point)\n",
    "    return totdist"
   ]
  },
  {
   "cell_type": "code",
   "execution_count": 21,
   "id": "835217b9",
   "metadata": {},
   "outputs": [
    {
     "name": "stdout",
     "output_type": "stream",
     "text": [
      "7\n"
     ]
    }
   ],
   "source": [
    "print(tot_dist([1,3,5,6],3))"
   ]
  },
  {
   "cell_type": "code",
   "execution_count": 26,
   "id": "d77cad98",
   "metadata": {},
   "outputs": [
    {
     "name": "stdout",
     "output_type": "stream",
     "text": [
      "The answer is: 337488.0\n"
     ]
    }
   ],
   "source": [
    "min_dist_pt = 0\n",
    "min_dist = tot_dist(pos, min_dist_pt)\n",
    "\n",
    "for i in range(len(pos)):\n",
    "    temp_pt = pos[i]\n",
    "    temp_dist = tot_dist(pos,temp_pt)\n",
    "    \n",
    "    if temp_dist<min_dist:\n",
    "        min_dist = temp_dist\n",
    "        min_dist_pt = temp_pt\n",
    "print(\"The answer is:\",min_dist)"
   ]
  },
  {
   "cell_type": "markdown",
   "id": "b2c7cd71",
   "metadata": {},
   "source": [
    "## Part 2"
   ]
  },
  {
   "cell_type": "code",
   "execution_count": 36,
   "id": "a83c744b",
   "metadata": {},
   "outputs": [],
   "source": [
    "@jit\n",
    "def tot_dist_2(pos, point):\n",
    "    totdist = 0\n",
    "    for i in prange(len(pos)):\n",
    "        totdist += abs(pos[i]-point)*(abs(pos[i]-point)+1)/2\n",
    "    return totdist"
   ]
  },
  {
   "cell_type": "code",
   "execution_count": 39,
   "id": "0c185746",
   "metadata": {},
   "outputs": [
    {
     "name": "stdout",
     "output_type": "stream",
     "text": [
      "The answer is: 89647695.0\n"
     ]
    }
   ],
   "source": [
    "min_dist_pt = 0\n",
    "min_dist = tot_dist_2(pos, min_dist_pt)\n",
    "\n",
    "for i in range(len(pos)):\n",
    "    temp_pt = pos[i]\n",
    "    temp_dist = tot_dist_2(pos,temp_pt)\n",
    "    \n",
    "    if temp_dist<min_dist:\n",
    "        min_dist = temp_dist\n",
    "        min_dist_pt = temp_pt\n",
    "# print(min_dist,min_dist_pt)\n",
    "print(\"The answer is:\",min_dist)"
   ]
  }
 ],
 "metadata": {
  "kernelspec": {
   "display_name": "Python 3 (ipykernel)",
   "language": "python",
   "name": "python3"
  },
  "language_info": {
   "codemirror_mode": {
    "name": "ipython",
    "version": 3
   },
   "file_extension": ".py",
   "mimetype": "text/x-python",
   "name": "python",
   "nbconvert_exporter": "python",
   "pygments_lexer": "ipython3",
   "version": "3.8.3"
  }
 },
 "nbformat": 4,
 "nbformat_minor": 5
}
