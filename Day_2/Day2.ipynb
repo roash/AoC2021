{
 "cells": [
  {
   "cell_type": "markdown",
   "id": "793c7645",
   "metadata": {},
   "source": [
    "# Advent of Code Day 2 (wow I should stanardize the titles and all but who has the time for that) "
   ]
  },
  {
   "cell_type": "markdown",
   "id": "89bd353c",
   "metadata": {},
   "source": [
    "## Part 1"
   ]
  },
  {
   "cell_type": "code",
   "execution_count": 18,
   "id": "54c43f1f",
   "metadata": {},
   "outputs": [],
   "source": [
    "position = {'forward':0,'down':0,'up':0}\n",
    "with open(\"Day2_input_1.txt\", 'r') as f:\n",
    "    for line in f:\n",
    "        direction = line.split(' ')[0]\n",
    "        val = float(line.split(' ')[1])\n",
    "        position[direction] += val"
   ]
  },
  {
   "cell_type": "code",
   "execution_count": 26,
   "id": "c77d3594",
   "metadata": {},
   "outputs": [
    {
     "name": "stdout",
     "output_type": "stream",
     "text": [
      "The answer i.e. depth x horizontal position is 2215080.0\n"
     ]
    }
   ],
   "source": [
    "final_forward = position['forward']\n",
    "final_depth = position['down']-position['up']\n",
    "answer1 = final_forward*final_depth\n",
    "print(\"The answer i.e. depth x horizontal position is\",answer1)"
   ]
  },
  {
   "cell_type": "markdown",
   "id": "00a09565",
   "metadata": {},
   "source": [
    "## Part 2"
   ]
  },
  {
   "cell_type": "code",
   "execution_count": 23,
   "id": "2bd3c460",
   "metadata": {},
   "outputs": [],
   "source": [
    "horizontal_pos = 0\n",
    "depth = 0\n",
    "aim = 0\n",
    "with open(\"Day2_input_1.txt\", 'r') as f:\n",
    "    for line in f:\n",
    "        direction = line.split(' ')[0]\n",
    "        val = float(line.split(' ')[1])\n",
    "        \n",
    "        if direction == 'forward':\n",
    "            horizontal_pos += val;\n",
    "            depth += val*aim\n",
    "        elif direction == 'down':\n",
    "            aim += val;\n",
    "        else: \n",
    "            aim -= val;"
   ]
  },
  {
   "cell_type": "code",
   "execution_count": 25,
   "id": "95d1edc6",
   "metadata": {},
   "outputs": [
    {
     "name": "stdout",
     "output_type": "stream",
     "text": [
      "The answer i.e. depth x horizontal position is 1864715580.0\n"
     ]
    }
   ],
   "source": [
    "answer2 = depth*horizontal_pos;\n",
    "print(\"The answer i.e. depth x horizontal position is\",answer2)"
   ]
  }
 ],
 "metadata": {
  "kernelspec": {
   "display_name": "Python 3 (ipykernel)",
   "language": "python",
   "name": "python3"
  },
  "language_info": {
   "codemirror_mode": {
    "name": "ipython",
    "version": 3
   },
   "file_extension": ".py",
   "mimetype": "text/x-python",
   "name": "python",
   "nbconvert_exporter": "python",
   "pygments_lexer": "ipython3",
   "version": "3.8.3"
  }
 },
 "nbformat": 4,
 "nbformat_minor": 5
}
