{
 "cells": [
  {
   "cell_type": "markdown",
   "id": "d597af91",
   "metadata": {},
   "source": [
    "# Advent of Code Day 8"
   ]
  },
  {
   "cell_type": "markdown",
   "id": "864328ac",
   "metadata": {},
   "source": [
    "## Part 1"
   ]
  },
  {
   "cell_type": "code",
   "execution_count": 39,
   "id": "4d20db17",
   "metadata": {},
   "outputs": [],
   "source": [
    "lines = []\n",
    "with open(\"Day8_input_1.txt\",'r') as f:\n",
    "    for line in f:\n",
    "        lines.append(line)\n",
    "for i, line in enumerate(lines):\n",
    "    lines[i] = line.split(sep='|')[1].strip().split()"
   ]
  },
  {
   "cell_type": "code",
   "execution_count": 40,
   "id": "2f82588a",
   "metadata": {},
   "outputs": [],
   "source": [
    "count = 0\n",
    "for line in lines:\n",
    "    for ele in line:\n",
    "        if len(ele) in [2,3,4,7]:\n",
    "            count +=1 "
   ]
  },
  {
   "cell_type": "code",
   "execution_count": 41,
   "id": "a0d7bba5",
   "metadata": {},
   "outputs": [
    {
     "name": "stdout",
     "output_type": "stream",
     "text": [
      "355\n"
     ]
    }
   ],
   "source": [
    "print(count)"
   ]
  },
  {
   "cell_type": "markdown",
   "id": "f6efed2c",
   "metadata": {},
   "source": [
    "## Part 2"
   ]
  },
  {
   "cell_type": "code",
   "execution_count": 125,
   "id": "8131febc",
   "metadata": {},
   "outputs": [],
   "source": [
    "def find_1(line):\n",
    "    for ele in line:\n",
    "        if len(ele) == 2:\n",
    "            return set(ele)\n",
    "def find_7(line):\n",
    "    for ele in line:\n",
    "        if len(ele) == 3:\n",
    "            return set(ele)\n",
    "def find_4(line):\n",
    "    for ele in line:\n",
    "        if len(ele) == 4:\n",
    "            return set(ele)\n",
    "def find_8(line):\n",
    "    for ele in line:\n",
    "        if len(ele) == 7:\n",
    "            return set(ele)\n",
    "def find_tr_br(set_8, set_1, line):\n",
    "    for ele in line:\n",
    "        if len(ele) == 6:\n",
    "            temp_set = set(ele)\n",
    "            if (set_8 - temp_set).intersection(set_1) != set():\n",
    "                tr = (set_8 - temp_set).intersection(set_1)\n",
    "                br = set_1 - (set_8-temp_set)\n",
    "                return tr, br\n",
    "def find_b(set_4, t, line):\n",
    "    for ele in line:\n",
    "        if len(ele) == 6:\n",
    "            temp_set = set(ele)\n",
    "            if set_4.intersection(temp_set) ==  set_4:\n",
    "                b = temp_set - set_4 - t\n",
    "                return b\n",
    "def find_m(t,b,tr,br,line):\n",
    "    tbtrbr = t.union(b,tr,br)\n",
    "    for ele in line:\n",
    "        if len(ele) == 5:\n",
    "            temp_set  = set(ele)\n",
    "            if tbtrbr.intersection(temp_set) == tbtrbr :\n",
    "                m = temp_set - tbtrbr\n",
    "                return m\n",
    "def find_tl_bl(set_1,set_8,m,t,b,set_4):\n",
    "    tl = set_4-set_1-m\n",
    "    bl = set_8-set_4-t-b\n",
    "    return tl, bl\n",
    "def find_num(digits,nums):\n",
    "    num = ''\n",
    "    for ele in nums:\n",
    "        set_ele = set(ele)\n",
    "        for i,digit in enumerate(digits):\n",
    "            if set_ele == digit:\n",
    "                num += str(i)\n",
    "    return num"
   ]
  },
  {
   "cell_type": "code",
   "execution_count": 126,
   "id": "8d63a75e",
   "metadata": {},
   "outputs": [],
   "source": [
    "lines = []\n",
    "with open(\"Day8_input_1.txt\",'r') as f:\n",
    "    for line in f:\n",
    "        lines.append(line)\n",
    "for i, line in enumerate(lines):\n",
    "    lines[i] = line.split(sep='|')[0].split(),line.split(sep='|')[1].strip().split()"
   ]
  },
  {
   "cell_type": "code",
   "execution_count": 127,
   "id": "93e86468",
   "metadata": {},
   "outputs": [],
   "source": [
    "sum_tot = 0\n",
    "for line in lines:\n",
    "    set_1 = find_1(line[0])\n",
    "    set_7 = find_7(line[0])\n",
    "    set_4 = find_4(line[0])\n",
    "    set_8 = find_8(line[0])\n",
    "        \n",
    "    t = set_7 - set_1\n",
    "    tr, br = find_tr_br(set_8, set_1, line[0]) \n",
    "    b = find_b(set_4, t, line[0])\n",
    "    m = find_m(t,b,tr,br,line[0])\n",
    "    tl, bl = find_tl_bl(set_1,set_8,m,t,b,set_4)\n",
    "    \n",
    "    set_0 = set_8 - m\n",
    "    set_2 = set_8 - tl - br\n",
    "    set_3 = set_8 - tl - bl\n",
    "    set_5 = set_8 - tr - bl\n",
    "    set_6 = set_8 - tr\n",
    "    set_9 = set_8 - bl\n",
    "    \n",
    "    digits = [set_0,set_1,set_2,set_3,set_4,set_5,set_6,set_7,set_8,set_9]\n",
    "    num = find_num(digits,line[1])\n",
    "    sum_tot += int(num)"
   ]
  },
  {
   "cell_type": "code",
   "execution_count": 128,
   "id": "f0e3c7f4",
   "metadata": {},
   "outputs": [
    {
     "name": "stdout",
     "output_type": "stream",
     "text": [
      "The answer is: 983030\n"
     ]
    }
   ],
   "source": [
    "print(\"The answer is:\", sum_tot)"
   ]
  }
 ],
 "metadata": {
  "kernelspec": {
   "display_name": "Python 3 (ipykernel)",
   "language": "python",
   "name": "python3"
  },
  "language_info": {
   "codemirror_mode": {
    "name": "ipython",
    "version": 3
   },
   "file_extension": ".py",
   "mimetype": "text/x-python",
   "name": "python",
   "nbconvert_exporter": "python",
   "pygments_lexer": "ipython3",
   "version": "3.8.3"
  }
 },
 "nbformat": 4,
 "nbformat_minor": 5
}
