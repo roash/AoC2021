{
 "cells": [
  {
   "cell_type": "markdown",
   "id": "a200b391",
   "metadata": {},
   "source": [
    "# Day 4 Advent of Code"
   ]
  },
  {
   "cell_type": "markdown",
   "id": "7a996938",
   "metadata": {},
   "source": [
    "## Part 1"
   ]
  },
  {
   "cell_type": "code",
   "execution_count": 113,
   "id": "58cf7954",
   "metadata": {},
   "outputs": [],
   "source": [
    "from pprint import pprint"
   ]
  },
  {
   "cell_type": "code",
   "execution_count": 325,
   "id": "29e3d4ae",
   "metadata": {},
   "outputs": [],
   "source": [
    "boards = []\n",
    "temp_board = []\n",
    "with open(\"Day4_input_1.txt\",'r') as f:\n",
    "    draws = f.readline()[:-1]\n",
    "    f.readline()\n",
    "    for line in f:\n",
    "        if line == '\\n':\n",
    "            boards.append(temp_board)\n",
    "            temp_board = []\n",
    "            continue\n",
    "        temp_board.append((line[:-1]).split())\n",
    "\n",
    "draws = draws.split(sep=',')[:]\n",
    "         "
   ]
  },
  {
   "cell_type": "code",
   "execution_count": 326,
   "id": "94a860a4",
   "metadata": {},
   "outputs": [],
   "source": [
    "board_dict = {}\n",
    "temp_board_dict = {}\n",
    "\n",
    "for board_num in range(len(boards)):\n",
    "    for row in range(len(boards[board_num])):\n",
    "        for col in range(len(boards[board_num][row])):\n",
    "            temp_board_dict[int(boards[board_num][row][col])] = 0\n",
    "    board_dict[int(board_num)] = temp_board_dict\n",
    "    temp_board_dict = {}"
   ]
  },
  {
   "cell_type": "code",
   "execution_count": 251,
   "id": "ef912b02",
   "metadata": {},
   "outputs": [],
   "source": [
    "def check_win(board, board_dict):\n",
    "    row_win = 0;\n",
    "    col_win = 0;\n",
    "    \n",
    "    for row in board:\n",
    "        prod = 0\n",
    "        for num in row:\n",
    "#             print(board_dict[int(num)])\n",
    "            prod += board_dict[int(num)]\n",
    "        if prod == len(row):\n",
    "            row_win = 1;\n",
    "            return True\n",
    "        \n",
    "    for col in range(len(board)):\n",
    "        prod = 0;\n",
    "        for row in range(5):\n",
    "            prod += board_dict[int(board[row][col])]\n",
    "        if prod == len(board):\n",
    "            col_win = 1\n",
    "            return True\n",
    "    return False\n",
    "        \n",
    "        \n",
    "        \n",
    "def update_board_dict(num, board_dict):\n",
    "    updated_dict = board_dict\n",
    "    if num in board_dict.keys():\n",
    "        updated_dict[num] = 1;\n",
    "    \n",
    "    return updated_dict\n",
    "\n",
    "    "
   ]
  },
  {
   "cell_type": "code",
   "execution_count": 258,
   "id": "41cb14b0",
   "metadata": {},
   "outputs": [
    {
     "name": "stdout",
     "output_type": "stream",
     "text": [
      "[['91', '5', '64', '81', '34'],\n",
      " ['15', '99', '31', '63', '65'],\n",
      " ['45', '39', '54', '93', '83'],\n",
      " ['51', '14', '23', '86', '32'],\n",
      " ['19', '22', '16', '13', '3']]\n"
     ]
    }
   ],
   "source": [
    "a = boards[0].copy()\n",
    "a_dict = board_dict[0].copy()\n",
    "a_dict = update_board_dict(14, a_dict)\n",
    "a_dict = update_board_dict(99, a_dict)\n",
    "a_dict = update_board_dict(39, a_dict)\n",
    "a_dict = update_board_dict(5, a_dict)\n",
    "a_dict = update_board_dict(22, a_dict)\n",
    "pprint(a)"
   ]
  },
  {
   "cell_type": "code",
   "execution_count": 259,
   "id": "4694dbf0",
   "metadata": {},
   "outputs": [
    {
     "data": {
      "text/plain": [
       "True"
      ]
     },
     "execution_count": 259,
     "metadata": {},
     "output_type": "execute_result"
    }
   ],
   "source": [
    "check_win(a,a_dict)"
   ]
  },
  {
   "cell_type": "code",
   "execution_count": 260,
   "id": "5acb3d4e",
   "metadata": {},
   "outputs": [],
   "source": [
    "for draw in draws:\n",
    "    draw = int(draw)\n",
    "    stop = False\n",
    "    for board_num in range(len(boards)):\n",
    "        update_board_dict(draw,board_dict[board_num])\n",
    "        if check_win(boards[board_num],board_dict[board_num]):\n",
    "            stop = True\n",
    "            break\n",
    "    if stop:\n",
    "        break"
   ]
  },
  {
   "cell_type": "code",
   "execution_count": 293,
   "id": "e5b92225",
   "metadata": {},
   "outputs": [
    {
     "name": "stdout",
     "output_type": "stream",
     "text": [
      "The answer is: 96 566\n"
     ]
    }
   ],
   "source": [
    "final_draw = draw\n",
    "sum_unmarked = 0\n",
    "winning_board = boards[board_num]\n",
    "for row in winning_board:\n",
    "    for ele in row:\n",
    "        if board_dict[board_num][int(ele)] == 0:\n",
    "            sum_unmarked += int(ele)\n",
    "\n",
    "print(\"The answer is:\",final_draw,sum_unmarked)"
   ]
  },
  {
   "cell_type": "markdown",
   "id": "914affef",
   "metadata": {},
   "source": [
    "## Part 2\n"
   ]
  },
  {
   "cell_type": "code",
   "execution_count": 327,
   "id": "019315de",
   "metadata": {},
   "outputs": [],
   "source": [
    "board_won = {}\n",
    "for i in range(len(boards)):\n",
    "    board_won[i] = 0"
   ]
  },
  {
   "cell_type": "code",
   "execution_count": 328,
   "id": "2e9c2f6d",
   "metadata": {},
   "outputs": [
    {
     "name": "stdout",
     "output_type": "stream",
     "text": [
      "73 0\n",
      "42 0\n",
      "95 0\n",
      "35 0\n",
      "13 0\n",
      "40 0\n",
      "99 0\n",
      "92 0\n",
      "33 0\n",
      "30 0\n",
      "83 0\n",
      "1 0\n",
      "36 0\n",
      "93 0\n",
      "59 0\n",
      "90 0\n",
      "55 0\n",
      "25 0\n",
      "77 0\n",
      "44 0\n",
      "37 0\n",
      "62 0\n",
      "41 0\n",
      "47 0\n",
      "80 0\n",
      "23 0\n",
      "51 0\n",
      "61 0\n",
      "21 0\n",
      "20 0\n",
      "76 0\n",
      "8 0\n",
      "71 1\n",
      "34 1\n",
      "58 2\n",
      "5 2\n",
      "52 3\n",
      "22 3\n",
      "39 3\n",
      "57 4\n",
      "17 6\n",
      "2 7\n",
      "26 7\n",
      "0 10\n",
      "10 11\n",
      "72 14\n",
      "19 16\n",
      "3 16\n",
      "64 17\n",
      "65 18\n",
      "82 20\n",
      "46 26\n",
      "31 29\n",
      "63 33\n",
      "91 36\n",
      "24 38\n",
      "18 41\n",
      "12 45\n",
      "9 46\n",
      "79 50\n",
      "50 53\n",
      "98 55\n",
      "69 60\n",
      "4 64\n",
      "78 65\n",
      "54 68\n",
      "43 70\n",
      "68 70\n",
      "87 72\n",
      "7 75\n",
      "67 76\n",
      "48 79\n",
      "28 82\n",
      "89 84\n",
      "94 88\n",
      "53 89\n",
      "85 92\n",
      "81 95\n",
      "49 95\n",
      "88 96\n",
      "6 96\n",
      "45\n",
      "96 98\n",
      "45\n",
      "29 98\n",
      "56 99\n"
     ]
    }
   ],
   "source": [
    "sum_boards_won = 0\n",
    "num = 0\n",
    "while sum_boards_won != len(boards):\n",
    "    draw = int(draws[num])\n",
    "    sum_boards_won = 0\n",
    "    for board_num in range(len(boards)):\n",
    "        update_board_dict(draw,board_dict[board_num])\n",
    "        if check_win(boards[board_num],board_dict[board_num]):\n",
    "            board_won[board_num] = 1\n",
    "    \n",
    "    for i in board_won:\n",
    "        \n",
    "        sum_boards_won += board_won[i] \n",
    "        \n",
    "    if sum_boards_won == len(boards)-1:\n",
    "        for i in board_won:\n",
    "            if board_won[i] == 0:\n",
    "                print(i)\n",
    "                final_board_num = i\n",
    "    print(draw, sum_boards_won)\n",
    "    \n",
    "    num += 1\n",
    "        \n",
    "        "
   ]
  },
  {
   "cell_type": "code",
   "execution_count": 329,
   "id": "d7323c0b",
   "metadata": {},
   "outputs": [
    {
     "name": "stdout",
     "output_type": "stream",
     "text": [
      "56\n",
      "The answer is: 26936\n"
     ]
    }
   ],
   "source": [
    "final_draw = draw\n",
    "print(draw)\n",
    "sum_unmarked = 0\n",
    "board_num = 45\n",
    "losing_board = boards[final_board_num]\n",
    "for row in losing_board:\n",
    "    for ele in row:\n",
    "        if board_dict[final_board_num][int(ele)] == 0:\n",
    "            sum_unmarked += int(ele)\n",
    "\n",
    "print(\"The answer is:\",final_draw*sum_unmarked)"
   ]
  }
 ],
 "metadata": {
  "kernelspec": {
   "display_name": "Python 3 (ipykernel)",
   "language": "python",
   "name": "python3"
  },
  "language_info": {
   "codemirror_mode": {
    "name": "ipython",
    "version": 3
   },
   "file_extension": ".py",
   "mimetype": "text/x-python",
   "name": "python",
   "nbconvert_exporter": "python",
   "pygments_lexer": "ipython3",
   "version": "3.8.3"
  }
 },
 "nbformat": 4,
 "nbformat_minor": 5
}
