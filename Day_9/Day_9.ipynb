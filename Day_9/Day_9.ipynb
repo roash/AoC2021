{
 "cells": [
  {
   "cell_type": "markdown",
   "id": "1fa634a1",
   "metadata": {},
   "source": [
    "# Advent of Code Day 9"
   ]
  },
  {
   "cell_type": "markdown",
   "id": "d6f8931d",
   "metadata": {},
   "source": [
    "## Part 1"
   ]
  },
  {
   "cell_type": "code",
   "execution_count": 70,
   "id": "ac655e78",
   "metadata": {},
   "outputs": [],
   "source": [
    "import numpy as np\n",
    "from numba import jit,prange"
   ]
  },
  {
   "cell_type": "code",
   "execution_count": 71,
   "id": "0e04789f",
   "metadata": {},
   "outputs": [],
   "source": [
    "data =[]\n",
    "with open(\"Day9_input_1.txt\",'r') as f:\n",
    "    for line in f:\n",
    "        data.append(line.strip())"
   ]
  },
  {
   "cell_type": "markdown",
   "id": "e8beb1cb",
   "metadata": {},
   "source": [
    "Initializing the array with a value of 10 (greater than the max element) so that theres a boundry padding of 10s after assigning values to the interior points. Then edges and sides have the same condition as the interior."
   ]
  },
  {
   "cell_type": "code",
   "execution_count": 72,
   "id": "4fd8d799",
   "metadata": {},
   "outputs": [],
   "source": [
    "rows,cols = len(data), len(data[0])\n",
    "A = 10*np.ones((rows+2,cols+2))"
   ]
  },
  {
   "cell_type": "code",
   "execution_count": 73,
   "id": "597ff13e",
   "metadata": {},
   "outputs": [],
   "source": [
    "for i in range(1,rows+1):\n",
    "    for j in range(1,cols+1):\n",
    "        A[i][j] = int(data[i-1][j-1])"
   ]
  },
  {
   "cell_type": "code",
   "execution_count": 77,
   "id": "8d4f4dfb",
   "metadata": {},
   "outputs": [],
   "source": [
    "# assumes A is a padded matrix already\n",
    "@jit\n",
    "def risk(A):\n",
    "    risk = 0\n",
    "    for i in prange(1,len(A)-1):\n",
    "        for j in range(1,len(A[0])-1):\n",
    "\n",
    "            if A[i][j]<A[i-1][j] and A[i][j]<A[i][j-1] and A[i][j]<A[i+1][j] and A[i][j]<A[i][j+1]:\n",
    "                risk += 1 + A[i][j]\n",
    "                continue\n",
    "    return risk"
   ]
  },
  {
   "cell_type": "code",
   "execution_count": 79,
   "id": "309a757b",
   "metadata": {},
   "outputs": [
    {
     "name": "stdout",
     "output_type": "stream",
     "text": [
      "The answer is: 535.0\n",
      "Wall time: 0 ns\n"
     ]
    }
   ],
   "source": [
    "%%time\n",
    "print(\"The answer is:\",risk(A))"
   ]
  },
  {
   "cell_type": "markdown",
   "id": "e324d4a3",
   "metadata": {},
   "source": [
    "## Part 2"
   ]
  },
  {
   "cell_type": "code",
   "execution_count": 80,
   "id": "52d5e6b1",
   "metadata": {},
   "outputs": [],
   "source": [
    "def basin_size(i,j,A,points_set):\n",
    "    \n",
    "    if A[i,j] == 9 or A[i,j] == 10:\n",
    "        return points_set\n",
    "    \n",
    "    points_set.add((i,j))\n",
    "    \n",
    "    if A[i+1,j] > A[i,j]:\n",
    "        points_set = basin_size(i+1,j,A,points_set)\n",
    "    if A[i-1,j] > A[i,j]:\n",
    "        points_set = basin_size(i-1,j,A,points_set)\n",
    "    if A[i,j+1] > A[i,j]:\n",
    "        points_set = basin_size(i,j+1,A,points_set)\n",
    "    if A[i,j-1] > A[i,j]:\n",
    "        points_set = basin_size(i,j-1,A,points_set)\n",
    "    return points_set"
   ]
  },
  {
   "cell_type": "code",
   "execution_count": 81,
   "id": "95d13984",
   "metadata": {},
   "outputs": [],
   "source": [
    "# assumes A is a padded matrix already\n",
    "@jit\n",
    "def basin_calculator(A):\n",
    "    basin_list = []\n",
    "    for i in prange(1,len(A)-1):\n",
    "        for j in range(1,len(A[0])-1):\n",
    "            points_set = set()\n",
    "            if A[i][j]<A[i-1][j] and A[i][j]<A[i][j-1] and A[i][j]<A[i+1][j] and A[i][j]<A[i][j+1]:\n",
    "                basin_list.append(len(basin_size(i,j,A,points_set)))\n",
    "                continue\n",
    "    return basin_list"
   ]
  },
  {
   "cell_type": "code",
   "execution_count": 84,
   "id": "70b0858f",
   "metadata": {},
   "outputs": [],
   "source": [
    "basin_size_list = basin_calculator(A)"
   ]
  },
  {
   "cell_type": "code",
   "execution_count": 87,
   "id": "00524b73",
   "metadata": {},
   "outputs": [
    {
     "name": "stdout",
     "output_type": "stream",
     "text": [
      "[109, 103, 100]\n"
     ]
    }
   ],
   "source": [
    "print(sorted(basin_size_list, reverse=True)[:3])"
   ]
  },
  {
   "cell_type": "code",
   "execution_count": 89,
   "id": "d5bce25f",
   "metadata": {},
   "outputs": [
    {
     "name": "stdout",
     "output_type": "stream",
     "text": [
      "The answer is 1122700.\n"
     ]
    }
   ],
   "source": [
    "print(f\"The answer is {109*103*100}.\")"
   ]
  }
 ],
 "metadata": {
  "kernelspec": {
   "display_name": "Python 3 (ipykernel)",
   "language": "python",
   "name": "python3"
  },
  "language_info": {
   "codemirror_mode": {
    "name": "ipython",
    "version": 3
   },
   "file_extension": ".py",
   "mimetype": "text/x-python",
   "name": "python",
   "nbconvert_exporter": "python",
   "pygments_lexer": "ipython3",
   "version": "3.8.3"
  }
 },
 "nbformat": 4,
 "nbformat_minor": 5
}
