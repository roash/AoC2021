{
 "cells": [
  {
   "cell_type": "markdown",
   "id": "6e73ddc3",
   "metadata": {},
   "source": [
    "# Advent of Code Day 3"
   ]
  },
  {
   "cell_type": "markdown",
   "id": "cdbddc2e",
   "metadata": {},
   "source": [
    "## Part 1"
   ]
  },
  {
   "cell_type": "markdown",
   "id": "2b02cdb5",
   "metadata": {},
   "source": [
    "Reading in the list and using split() to remove the newline character from the end."
   ]
  },
  {
   "cell_type": "code",
   "execution_count": 2,
   "id": "9216c567",
   "metadata": {},
   "outputs": [],
   "source": [
    "num_entries = 0\n",
    "entry_list = []\n",
    "with open(\"Day3_input_1.txt\", 'r') as f:\n",
    "    for line in f:\n",
    "        num_entries += 1\n",
    "        entry_list.append(line.split()[0])"
   ]
  },
  {
   "cell_type": "markdown",
   "id": "c2c9ab8d",
   "metadata": {},
   "source": [
    "Defining a dictionary to keep track of the sums at each position. Initializing the sums to zero."
   ]
  },
  {
   "cell_type": "code",
   "execution_count": 3,
   "id": "87ac4af5",
   "metadata": {},
   "outputs": [],
   "source": [
    "pos_total = {}\n",
    "for i in range(len(entry_list[0])):\n",
    "    pos_total[i] = 0"
   ]
  },
  {
   "cell_type": "code",
   "execution_count": 4,
   "id": "b506ae84",
   "metadata": {},
   "outputs": [],
   "source": [
    "for entry in entry_list:\n",
    "    for pos in range(len(entry)):\n",
    "        pos_total[pos] += int(entry[pos])"
   ]
  },
  {
   "cell_type": "code",
   "execution_count": 5,
   "id": "8312ce17",
   "metadata": {},
   "outputs": [],
   "source": [
    "for key in pos_total:\n",
    "    pos_total[key] = int(round(pos_total[key]/num_entries,0))"
   ]
  },
  {
   "cell_type": "markdown",
   "id": "bfbaa127",
   "metadata": {},
   "source": [
    "Converting the binary numbers to decimal-"
   ]
  },
  {
   "cell_type": "code",
   "execution_count": 6,
   "id": "d29d438d",
   "metadata": {},
   "outputs": [],
   "source": [
    "gamma_rate = 0;\n",
    "epsilon_rate = 0;\n",
    "exp_fac = 0;\n",
    "for key in reversed(pos_total):\n",
    "    if pos_total[key] == 1:\n",
    "        gamma_rate += 2**exp_fac\n",
    "    else:\n",
    "        epsilon_rate += 2**exp_fac\n",
    "        \n",
    "    exp_fac += 1;"
   ]
  },
  {
   "cell_type": "code",
   "execution_count": 7,
   "id": "c0e3bba4",
   "metadata": {},
   "outputs": [
    {
     "name": "stdout",
     "output_type": "stream",
     "text": [
      "The power consumption is 3969000\n"
     ]
    }
   ],
   "source": [
    "print(\"The power consumption is\", gamma_rate*epsilon_rate)"
   ]
  },
  {
   "cell_type": "markdown",
   "id": "9ef354fa",
   "metadata": {},
   "source": [
    "## Part 2"
   ]
  },
  {
   "cell_type": "code",
   "execution_count": 35,
   "id": "b3a9713e",
   "metadata": {},
   "outputs": [],
   "source": [
    "def most_common_bit(list_of_nos, place):\n",
    "    place_sum = 0;\n",
    "    for num in list_of_nos:\n",
    "            place_sum += int(num[place])\n",
    "    if place_sum/len(list_of_nos)==0.5:\n",
    "        return 1\n",
    "    val = round(place_sum/len(list_of_nos),0)\n",
    "    return int(val)\n",
    "    "
   ]
  },
  {
   "cell_type": "code",
   "execution_count": 36,
   "id": "9c33344c",
   "metadata": {},
   "outputs": [],
   "source": [
    "def most_common_bit_CO2(list_of_nos, place):\n",
    "    place_sum = 0;\n",
    "    for num in list_of_nos:\n",
    "            place_sum += int(num[place])\n",
    "    val = round(place_sum/len(list_of_nos),0)\n",
    "    return int(val)"
   ]
  },
  {
   "cell_type": "code",
   "execution_count": 37,
   "id": "919c6b9c",
   "metadata": {},
   "outputs": [
    {
     "name": "stdout",
     "output_type": "stream",
     "text": [
      "100111001101\n"
     ]
    }
   ],
   "source": [
    "O2_rating = entry_list.copy()\n",
    "\n",
    "for i in range(len(entry_list[0])):\n",
    "\n",
    "    temp = O2_rating.copy()\n",
    "    comparison_bit = most_common_bit(O2_rating,i)\n",
    "    \n",
    "    for entry in temp:\n",
    "\n",
    "        if int(entry[i]) != comparison_bit:\n",
    "            O2_rating.remove(entry)\n",
    "    \n",
    "    if len(O2_rating) == 1:\n",
    "        break\n",
    "O2_rating = O2_rating[0]\n",
    "print(O2_rating)"
   ]
  },
  {
   "cell_type": "code",
   "execution_count": 40,
   "id": "dfa5b8f7",
   "metadata": {},
   "outputs": [
    {
     "name": "stdout",
     "output_type": "stream",
     "text": [
      "011010100101\n"
     ]
    }
   ],
   "source": [
    "CO2_rating = entry_list.copy()\n",
    "\n",
    "for i in range(len(entry_list[0])):\n",
    "\n",
    "    temp2 = CO2_rating.copy()\n",
    "    comparison_bit = most_common_bit(CO2_rating,i)\n",
    "    \n",
    "    for entry in temp2:\n",
    "\n",
    "        if int(entry[i]) == comparison_bit:\n",
    "            CO2_rating.remove(entry)\n",
    "    \n",
    "    if len(CO2_rating) == 1:\n",
    "        break\n",
    "CO2_rating = CO2_rating[0]\n",
    "print(CO2_rating)"
   ]
  },
  {
   "cell_type": "markdown",
   "id": "9ab2da06",
   "metadata": {},
   "source": [
    "Converting the two to decimal and multiplying:"
   ]
  },
  {
   "cell_type": "code",
   "execution_count": 57,
   "id": "a3ed84a9",
   "metadata": {},
   "outputs": [
    {
     "name": "stdout",
     "output_type": "stream",
     "text": [
      "2509 1701\n"
     ]
    }
   ],
   "source": [
    "O2_dec = 0;\n",
    "CO2_dec = 0;\n",
    "exp_fac = 0;\n",
    "for i in range(1,len(O2_rating)+1):\n",
    "    O2_dec += int(O2_rating[-i])*(2**exp_fac)\n",
    "    CO2_dec += int(CO2_rating[-i])*(2**exp_fac)\n",
    "    exp_fac += 1\n",
    "print(O2_dec,CO2_dec)"
   ]
  },
  {
   "cell_type": "code",
   "execution_count": 58,
   "id": "9a4d1e6d",
   "metadata": {},
   "outputs": [
    {
     "name": "stdout",
     "output_type": "stream",
     "text": [
      "The answer is 4267809\n"
     ]
    }
   ],
   "source": [
    "print(\"The answer is\", O2_dec*CO2_dec)"
   ]
  }
 ],
 "metadata": {
  "kernelspec": {
   "display_name": "Python 3 (ipykernel)",
   "language": "python",
   "name": "python3"
  },
  "language_info": {
   "codemirror_mode": {
    "name": "ipython",
    "version": 3
   },
   "file_extension": ".py",
   "mimetype": "text/x-python",
   "name": "python",
   "nbconvert_exporter": "python",
   "pygments_lexer": "ipython3",
   "version": "3.8.3"
  }
 },
 "nbformat": 4,
 "nbformat_minor": 5
}
