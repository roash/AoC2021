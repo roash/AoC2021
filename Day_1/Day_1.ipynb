{
 "cells": [
  {
   "cell_type": "markdown",
   "id": "b867529a",
   "metadata": {},
   "source": [
    "## Rohit Shekhar AoC Day 1"
   ]
  },
  {
   "cell_type": "markdown",
   "id": "e266715f",
   "metadata": {},
   "source": [
    "## Part 1: Finding the number of measurements that increase when compared with the previous measurement"
   ]
  },
  {
   "cell_type": "code",
   "execution_count": 18,
   "id": "d7a65476",
   "metadata": {},
   "outputs": [],
   "source": [
    "depth_measurements = [] \n",
    "with open(\"Day1_input_1.txt\", 'r') as f:\n",
    "    for line in f:        \n",
    "        read_data = float(line)\n",
    "        depth_measurements.append(read_data)"
   ]
  },
  {
   "cell_type": "code",
   "execution_count": 20,
   "id": "927cc047",
   "metadata": {},
   "outputs": [
    {
     "name": "stdout",
     "output_type": "stream",
     "text": [
      "The number of measurements that increased is 1393\n"
     ]
    }
   ],
   "source": [
    "increased = 0;\n",
    "for i in range(1,len(depth_measurements)):\n",
    "    if depth_measurements[i]>depth_measurements[i-1]:\n",
    "        increased += 1;\n",
    "print(\"The number of measurements that increased is\",increased)"
   ]
  },
  {
   "cell_type": "markdown",
   "id": "498747da",
   "metadata": {},
   "source": [
    "## Part 2: How many measurements increase when compared with a 3-measurement sliding window sum"
   ]
  },
  {
   "cell_type": "markdown",
   "id": "f37b24f6",
   "metadata": {},
   "source": [
    "Note: Firstly, for the first two measurements there is no 3-measurement sliding window possible, so we don't compare those. Secondly, comparing consecutive sliding window sums is the same as comparing if the $i^{th}$ element is greater that the $(i-3)^{th}$ element because the two other elements are part of both sums."
   ]
  },
  {
   "cell_type": "code",
   "execution_count": 21,
   "id": "177e015a",
   "metadata": {},
   "outputs": [
    {
     "name": "stdout",
     "output_type": "stream",
     "text": [
      "The number of measurements that increased when taking a 3 window sliding sum is 1359\n"
     ]
    }
   ],
   "source": [
    "sum_increased = 0\n",
    "for i in range(3,len(depth_measurements)):\n",
    "    if depth_measurements[i]>depth_measurements[i-3]:\n",
    "        sum_increased += 1;\n",
    "print(\"The number of measurements that increased when taking a 3 window sliding sum is\", sum_increased)"
   ]
  }
 ],
 "metadata": {
  "kernelspec": {
   "display_name": "Python 3 (ipykernel)",
   "language": "python",
   "name": "python3"
  },
  "language_info": {
   "codemirror_mode": {
    "name": "ipython",
    "version": 3
   },
   "file_extension": ".py",
   "mimetype": "text/x-python",
   "name": "python",
   "nbconvert_exporter": "python",
   "pygments_lexer": "ipython3",
   "version": "3.8.3"
  }
 },
 "nbformat": 4,
 "nbformat_minor": 5
}
