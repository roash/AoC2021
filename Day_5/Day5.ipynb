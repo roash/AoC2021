{
 "cells": [
  {
   "cell_type": "markdown",
   "id": "ec37bbf8",
   "metadata": {},
   "source": [
    "# Day 5 Advent of Code\n"
   ]
  },
  {
   "cell_type": "markdown",
   "id": "a7075192",
   "metadata": {},
   "source": [
    "## Part 1"
   ]
  },
  {
   "cell_type": "code",
   "execution_count": 102,
   "id": "d96f843c",
   "metadata": {},
   "outputs": [],
   "source": [
    "import pprint\n",
    "import numpy as np\n",
    "coords = []\n",
    "with open(\"Day5_input_1.txt\",'r') as f:\n",
    "    for line in f:\n",
    "        entry = line.split()\n",
    "        coords.append(entry)\n",
    "for i in range(len(coords)):\n",
    "    x1 = int(coords[i][0].split(sep=',')[0])\n",
    "    y1 = int(coords[i][0].split(sep=',')[1])\n",
    "    x2 = int(coords[i][2].split(sep=',')[0])\n",
    "    y2 = int(coords[i][2].split(sep=',')[1])\n",
    "    coords[i] = [x1,y1,x2,y2]"
   ]
  },
  {
   "cell_type": "markdown",
   "id": "f717970a",
   "metadata": {},
   "source": [
    "Finding the x and y limits:\n"
   ]
  },
  {
   "cell_type": "code",
   "execution_count": 103,
   "id": "8b714088",
   "metadata": {},
   "outputs": [],
   "source": [
    "x_min = 500\n",
    "x_max = 0\n",
    "y_min = 500\n",
    "y_max = 0\n",
    "for line in coords:\n",
    "    x_min = min(x_min,line[0],line[2])\n",
    "    x_max = max(x_max,line[0],line[2])\n",
    "    y_min = min(y_min,line[1],line[3])\n",
    "    y_max = max(y_max,line[1],line[3])"
   ]
  },
  {
   "cell_type": "code",
   "execution_count": 107,
   "id": "f88c93fd",
   "metadata": {},
   "outputs": [],
   "source": [
    "grid = np.zeros((999,999))\n",
    "\n",
    "for line in coords:\n",
    "    x1 = line[0]\n",
    "    y1 = line[1]\n",
    "    x2 = line[2]\n",
    "    y2 = line[3]\n",
    "    \n",
    "    if x1 == x2:\n",
    "        y_start = min(y1,y2)\n",
    "        y_end = max(y1,y2)\n",
    "        grid[x1,y_start:y_end+1] += 1\n",
    "    elif y1 == y2:\n",
    "        x_start = min(x1,x2)\n",
    "        x_end = max(x1,x2)\n",
    "        grid[x_start:x_end+1,y1] += 1\n",
    "    # comment this part out for Part 1\n",
    "    else:\n",
    "        if (x2-x1)*(y2-y1) > 0:\n",
    "            angle_fac = 1\n",
    "            x_start = min(x1,x2)\n",
    "            x_end = max(x1,x2)\n",
    "            y_start = min(y1,y2)\n",
    "            y = y_start\n",
    "            for x in range(x_start,x_end+1):\n",
    "                \n",
    "                grid[x,y] += 1\n",
    "                y += angle_fac\n",
    "        else: \n",
    "            angle_fac = -1\n",
    "            x_start = min(x1,x2)\n",
    "            x_end = max(x1,x2)\n",
    "            y_start = max(y1,y2)\n",
    "            y = y_start\n",
    "#             print(x_start,x_end,y_start)\n",
    "            for x in range(x_start,x_end+1):\n",
    "                \n",
    "                grid[x,y] += 1\n",
    "                y += angle_fac\n",
    "            "
   ]
  },
  {
   "cell_type": "markdown",
   "id": "42047585",
   "metadata": {},
   "source": [
    "### Do not touch, this is the Part 1 answer"
   ]
  },
  {
   "cell_type": "code",
   "execution_count": 86,
   "id": "37854c9e",
   "metadata": {},
   "outputs": [
    {
     "name": "stdout",
     "output_type": "stream",
     "text": [
      "The answer is: 8060\n"
     ]
    }
   ],
   "source": [
    "counter = 0\n",
    "for row in grid:\n",
    "    for element in row:\n",
    "        if element >= 2:\n",
    "            counter += 1\n",
    "print(\"The answer is:\", counter)"
   ]
  },
  {
   "cell_type": "markdown",
   "id": "91909a09",
   "metadata": {},
   "source": [
    "### Part 2 Answer"
   ]
  },
  {
   "cell_type": "code",
   "execution_count": 108,
   "id": "41c4fb60",
   "metadata": {},
   "outputs": [
    {
     "name": "stdout",
     "output_type": "stream",
     "text": [
      "The answer is: 21577\n"
     ]
    }
   ],
   "source": [
    "counter = 0\n",
    "for row in grid:\n",
    "    for element in row:\n",
    "        if element >= 2:\n",
    "            counter += 1\n",
    "print(\"The answer is:\", counter)\n"
   ]
  }
 ],
 "metadata": {
  "kernelspec": {
   "display_name": "Python 3 (ipykernel)",
   "language": "python",
   "name": "python3"
  },
  "language_info": {
   "codemirror_mode": {
    "name": "ipython",
    "version": 3
   },
   "file_extension": ".py",
   "mimetype": "text/x-python",
   "name": "python",
   "nbconvert_exporter": "python",
   "pygments_lexer": "ipython3",
   "version": "3.8.3"
  }
 },
 "nbformat": 4,
 "nbformat_minor": 5
}
